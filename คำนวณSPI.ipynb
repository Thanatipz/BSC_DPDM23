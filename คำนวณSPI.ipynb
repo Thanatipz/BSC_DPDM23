{
  "nbformat": 4,
  "nbformat_minor": 0,
  "metadata": {
    "colab": {
      "provenance": [],
      "mount_file_id": "1oW4518cZwbiiyuPJUxPj-1mRfVwXCtNk",
      "authorship_tag": "ABX9TyPc40yQSudVsYE/j29pdFTY",
      "include_colab_link": true
    },
    "kernelspec": {
      "name": "python3",
      "display_name": "Python 3"
    },
    "language_info": {
      "name": "python"
    }
  },
  "cells": [
    {
      "cell_type": "markdown",
      "metadata": {
        "id": "view-in-github",
        "colab_type": "text"
      },
      "source": [
        "<a href=\"https://colab.research.google.com/github/Thanatipz/BSC_DPDM23/blob/main/%E0%B8%84%E0%B8%B3%E0%B8%99%E0%B8%A7%E0%B8%93SPI.ipynb\" target=\"_parent\"><img src=\"https://colab.research.google.com/assets/colab-badge.svg\" alt=\"Open In Colab\"/></a>"
      ]
    },
    {
      "cell_type": "code",
      "source": [
        "import numpy as np\n",
        "import scipy.stats as stats\n",
        "import pandas as pd\n",
        "from google.colab import drive\n",
        "\n",
        "drive.mount('/content/drive')  # เชื่อมต่อ Google Drive\n",
        "\n",
        "def fit_gamma_distribution(precipitation):\n",
        "    precipitation = np.array(precipitation)\n",
        "    precipitation = precipitation[precipitation > 0]\n",
        "    if len(precipitation) == 0:\n",
        "        raise ValueError(\"ไม่มีข้อมูลที่มากกว่า 0 สำหรับฟิต Gamma Distribution\")\n",
        "    shape, loc, scale = stats.gamma.fit(precipitation, floc=0)\n",
        "    return shape, scale\n",
        "\n",
        "def gamma_cdf(x, shape, scale):\n",
        "    return stats.gamma.cdf(x, shape, scale=scale)\n",
        "\n",
        "def spi(precipitation):\n",
        "    precipitation = np.array(precipitation)\n",
        "    if np.any(precipitation <= 0):\n",
        "        print(\"พบค่าที่เป็น 0 หรือค่าลบในข้อมูลฝน ใช้ Gaussian Distribution แทน\")\n",
        "        spi_values = stats.zscore(precipitation)\n",
        "    else:\n",
        "        shape, scale_param = fit_gamma_distribution(precipitation)\n",
        "        cdf_vals = gamma_cdf(precipitation, shape, scale_param)\n",
        "        spi_values = stats.norm.ppf(cdf_vals)\n",
        "    return spi_values\n",
        "\n",
        "def convert_yyyyddd_to_date(yyyyddd):\n",
        "    yyyyddd = int(yyyyddd)\n",
        "    year = yyyyddd // 1000\n",
        "    day_of_year = yyyyddd % 1000\n",
        "    return pd.to_datetime(f\"{year}-{day_of_year}\", format=\"%Y-%j\")\n",
        "\n",
        "def read_and_aggregate_excel(file_path, sheet_name=0):\n",
        "    df = pd.read_excel(file_path, sheet_name=sheet_name)\n",
        "    df.columns = [\"Date\", \"Rainfall\"]\n",
        "    df.dropna(subset=[\"Date\", \"Rainfall\"], inplace=True)\n",
        "    df[\"Date\"] = df[\"Date\"].apply(convert_yyyyddd_to_date)\n",
        "    df.set_index(\"Date\", inplace=True)\n",
        "\n",
        "    periods = []\n",
        "    start_date = df.index[0]\n",
        "    while start_date.year < df.index[-1].year:\n",
        "        end_date = pd.Timestamp(year=start_date.year + 1, month=4, day=1) - pd.DateOffset(days=1)\n",
        "        if end_date > df.index[-1]:\n",
        "            end_date = df.index[-1]\n",
        "        rainfall_sum = df.loc[start_date:end_date, \"Rainfall\"].sum()\n",
        "        periods.append((start_date, end_date, rainfall_sum))\n",
        "        start_date = pd.Timestamp(year=start_date.year + 1, month=11, day=1)\n",
        "\n",
        "    period_df = pd.DataFrame(periods, columns=[\"Start Date\", \"End Date\", \"Rainfall\"])\n",
        "    return period_df\n",
        "\n",
        "file_path = \"/content/drive/MyDrive/SPI/rain.xlsx\"\n",
        "precip_data = read_and_aggregate_excel(file_path)\n",
        "spi_values = spi(precip_data[\"Rainfall\"])\n",
        "\n",
        "spi_df = precip_data.copy()\n",
        "spi_df[\"SPI Value\"] = spi_values\n",
        "spi_df[\"Start Date\"] = spi_df[\"Start Date\"].dt.strftime(\"%Y-%m-%d\")\n",
        "spi_df[\"End Date\"] = spi_df[\"End Date\"].dt.strftime(\"%Y-%m-%d\")\n",
        "\n",
        "print(spi_df)\n",
        "\n",
        "output_path = \"/content/drive/MyDrive/SPI/spi_results.xlsx\"\n",
        "spi_df.to_excel(output_path, index=False)\n",
        "print(f\"บันทึกไฟล์ Excel ที่: {output_path}\")\n"
      ],
      "metadata": {
        "colab": {
          "base_uri": "https://localhost:8080/"
        },
        "id": "MIDkqTxu_5MA",
        "outputId": "3d6c60d8-11f4-4bfc-fc2d-466c85e39add"
      },
      "execution_count": 15,
      "outputs": [
        {
          "output_type": "stream",
          "name": "stdout",
          "text": [
            "Drive already mounted at /content/drive; to attempt to forcibly remount, call drive.mount(\"/content/drive\", force_remount=True).\n",
            "    Start Date    End Date  Rainfall  SPI Value\n",
            "0   2003-11-01  2004-03-31      79.6  -0.086238\n",
            "1   2004-11-01  2005-03-31      16.8  -2.563467\n",
            "2   2005-11-01  2006-03-31     121.1   0.809622\n",
            "3   2006-11-01  2007-03-31      46.7  -1.062357\n",
            "4   2007-11-01  2008-03-31      77.7  -0.134100\n",
            "5   2008-11-01  2009-03-31     137.5   1.107307\n",
            "6   2009-11-01  2010-03-31      49.5  -0.963370\n",
            "7   2010-11-01  2011-03-31     119.0   0.769653\n",
            "8   2011-11-01  2012-03-31      73.7  -0.237509\n",
            "9   2012-11-01  2013-03-31      94.2   0.258163\n",
            "10  2013-11-01  2014-03-31      50.5  -0.928971\n",
            "11  2014-11-01  2015-03-31     118.7   0.763906\n",
            "12  2015-11-01  2016-03-31      72.5  -0.269272\n",
            "13  2016-11-01  2017-03-31     143.8   1.215555\n",
            "14  2017-11-01  2018-03-31     109.9   0.590922\n",
            "15  2018-11-01  2019-03-31      82.6  -0.012211\n",
            "16  2019-11-01  2020-03-31      57.5  -0.700593\n",
            "17  2020-11-01  2021-03-31      56.6  -0.728831\n",
            "18  2021-11-01  2022-03-31     201.8   2.094153\n",
            "19  2022-11-01  2023-03-31      88.4   0.125942\n",
            "บันทึกไฟล์ Excel ที่: /content/drive/MyDrive/SPI/spi_results.xlsx\n"
          ]
        }
      ]
    }
  ]
}